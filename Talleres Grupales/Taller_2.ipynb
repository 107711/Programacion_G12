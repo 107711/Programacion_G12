{
  "nbformat": 4,
  "nbformat_minor": 0,
  "metadata": {
    "colab": {
      "provenance": [],
      "collapsed_sections": [],
      "include_colab_link": true
    },
    "kernelspec": {
      "name": "python3",
      "display_name": "Python 3"
    },
    "language_info": {
      "name": "python"
    }
  },
  "cells": [
    {
      "cell_type": "markdown",
      "metadata": {
        "id": "view-in-github",
        "colab_type": "text"
      },
      "source": [
        "<a href=\"https://colab.research.google.com/github/LinaBoyaca/Programacion_G12/blob/master/Talleres%20Grupales/Taller_2.ipynb\" target=\"_parent\"><img src=\"https://colab.research.google.com/assets/colab-badge.svg\" alt=\"Open In Colab\"/></a>"
      ]
    },
    {
      "cell_type": "markdown",
      "source": [
        "Taller No. 2\n",
        "Programación de computadores (G12)\n",
        "\n",
        "Condicionales e introducción a ciclo definido (For)\n",
        "\n",
        "Entrega grupo 7\n",
        "\n",
        "Lina Maria Boyaca Avila \n",
        "lboyacaa@unal.edu.co\n",
        "\n",
        "Harold Santiago Galindo Lara\n",
        "hgalindol@unal.edu.co\n",
        "\n",
        "Karen Gissell Buitrago Osorio\n",
        "kbuitragoo@unal.edu.co\n",
        "\n",
        "Daniel Alexander Riaño Hincapie\n",
        "drianoh@unal.edu.co\n"
      ],
      "metadata": {
        "id": "jC83iTZK3TaF"
      }
    },
    {
      "cell_type": "markdown",
      "source": [
        " 1. \n",
        " \n",
        " Ejercicios IF/For\n",
        "\n",
        "Escriba un algoritmo que dado un número entero, indique si este valor es par o impar.\n",
        "\n",
        "(recordar Todos los operadores aritméticos [+, -, *, /, %MOD])\n",
        "\n",
        "Ejemplo Ejecución:\n",
        "\n",
        ">escriba un número entero\n",
        "\n",
        ">\t8\n",
        "\n",
        ">Su número es Par\n"
      ],
      "metadata": {
        "id": "BZmEwPrUDfw8"
      }
    },
    {
      "cell_type": "code",
      "source": [
        "x=input(\"escriba un número entero: \")\n",
        "if((int(x) % 2) != 0):\n",
        "   print(\"Su número es impar\")\n",
        "else:\n",
        "   print(\"Su número es par\")"
      ],
      "metadata": {
        "id": "K1jd2718DrkN",
        "colab": {
          "base_uri": "https://localhost:8080/"
        },
        "outputId": "84b9fb30-23a8-43d6-8f93-99099982d8be"
      },
      "execution_count": null,
      "outputs": [
        {
          "output_type": "stream",
          "name": "stdout",
          "text": [
            "escriba un número entero: 8\n",
            "Su número es par\n"
          ]
        }
      ]
    },
    {
      "cell_type": "markdown",
      "source": [
        "2.\n",
        "\n",
        "Escriba un algoritmo que pida un número y también un porcentaje entre 0 y 100 que puede ser decimal,  el algoritmo debe entregar el cálculo del porcentaje del primer número, Si el usuario ingresa un dato fuera del rango  (0 a 100), debe mostrar un error y volver a pedir el porcentaje"
      ],
      "metadata": {
        "id": "AlBcGZQlD7fd"
      }
    },
    {
      "cell_type": "code",
      "source": [
        "num = float(input(\"Escriba un numero cualquiera\\n\"))\n",
        "porcentaje = float(input(\"Escriba el porcentaje a calcular\\n\"))\n",
        "\n",
        "while(porcentaje<0 or porcentaje>100):\n",
        "    print(\"Porcentaje No valido\")\n",
        "    porcentaje = float(input(\"Escriba el porcentaje a calcular\\n\"))\n",
        "\n",
        "\n",
        "porcentaje_calculado = porcentaje*num/100\n",
        "\n",
        "print(\"El\",porcentaje, \"% de\", num, \"es :\", porcentaje_calculado)"
      ],
      "metadata": {
        "id": "Yk78lKeMEHgH",
        "outputId": "758fe717-2e73-462b-af90-62c01b5c7be0",
        "colab": {
          "base_uri": "https://localhost:8080/"
        }
      },
      "execution_count": null,
      "outputs": [
        {
          "output_type": "stream",
          "name": "stdout",
          "text": [
            "Escriba un numero cualquiera\n",
            "100\n",
            "Escriba el porcentaje a calcular\n",
            "25\n",
            "El 25.0 % de 100.0 es : 25.0\n"
          ]
        }
      ]
    },
    {
      "cell_type": "markdown",
      "source": [
        "3.\n",
        "\n",
        "Con base en el primer Ejercicio, si el número indicado es par, entregar todos los números pares entre el 0 y el número.\n",
        "\n",
        ">escriba un número entero\n",
        "\n",
        ">\t8\n",
        "\n",
        ">Su número es Par y los números pares antes de el son:\n",
        "\n",
        ">2,4,6\n"
      ],
      "metadata": {
        "id": "cE9B2us7EISd"
      }
    },
    {
      "cell_type": "code",
      "source": [
        "def drh():                                                                             #defino la funcion (drh)\n",
        "    print(\"PARES E IMPARES\")                                                           #print para el alg pares e impares\n",
        "    numero_1 = int(input(\"Escriba un número entero: \"))                                #variable n_1 para un numero entero\n",
        "    numero_2 = int(input(f\"Escriba un número entero mayor o igual que {numero_1}: \"))  #variable n_2 para un numero mayor que n_1\n",
        "\n",
        "    if numero_2 < numero_1:                                                            #condicion si y solo si\n",
        "        print(f\"¡número entero mayor o igual que {numero_1}!\")                         #print por SI cumple la condicion\n",
        "    else:                                                                              #\"si no\"\n",
        "        for i in range(numero_1, numero_2 + 1):                                        #ejecutar el codigo hasta cierto rango\n",
        "            if i % 2 == 0:                                                             #condicion\n",
        "                print(f\"El número {i} es par.\")                                        #print por si cumple la condicion\n",
        "            else:                                                                      #\"si no\"\n",
        "                print(f\"El número {i} es impar.\")                                      #print por si NO mcumple la condicion\n",
        "if __name__ == \"__main__\":                                                             \n",
        "    drh()                                                                              #muestra la consulta"
      ],
      "metadata": {
        "id": "_Mow-xx-ETAL",
        "colab": {
          "base_uri": "https://localhost:8080/"
        },
        "outputId": "8c497ae8-7d1e-42ee-f7e9-e6b9308bfcdd"
      },
      "execution_count": null,
      "outputs": [
        {
          "output_type": "stream",
          "name": "stdout",
          "text": [
            "PARES E IMPARES\n",
            "Escriba un número entero: 10\n",
            "Escriba un número entero mayor o igual que 10: 12\n",
            "El número 10 es par.\n",
            "El número 11 es impar.\n",
            "El número 12 es par.\n"
          ]
        }
      ]
    },
    {
      "cell_type": "markdown",
      "source": [],
      "metadata": {
        "id": "PXlXjjGerdvO"
      }
    },
    {
      "cell_type": "markdown",
      "source": [
        "4.\n",
        "\n",
        "Escriba un algoritmo que dado un número entero, entregue la suma de todos los números entre el 0 y el número dado."
      ],
      "metadata": {
        "id": "wIBEh6uhEXxT"
      }
    },
    {
      "cell_type": "code",
      "source": [
        "X = int(input(\"Ingrese el número: \"))               # Declaración ingreso de datos\n",
        "suma=0                                              # Inicialización operación de resultado\n",
        "nu=[]                                                # Inicialización lista\n",
        "\n",
        "for i in range(0,X,):                               # Declaración parametros bucle\n",
        "    suma+= i+1                                      # Declaración opreación a realizar\n",
        "    nu.append(i+1)                                   # Adición de elemtos a lista\n",
        "print(nu)                                            # Impresión de lista\n",
        "                                                    \n",
        "  \n",
        "print(\"La suma de 0 hasta \", X, \" es: \",suma)       # Impresión de resultado "
      ],
      "metadata": {
        "id": "f2mUvaDTEbQW",
        "colab": {
          "base_uri": "https://localhost:8080/"
        },
        "outputId": "9676c57f-b2c6-4267-f10b-71c30bf3a084"
      },
      "execution_count": null,
      "outputs": [
        {
          "output_type": "stream",
          "name": "stdout",
          "text": [
            "Ingrese el número: 10\n",
            "[1, 2, 3, 4, 5, 6, 7, 8, 9, 10]\n",
            "La suma de 0 hasta  10  es:  55\n"
          ]
        }
      ]
    }
  ]
}